{
 "cells": [
  {
   "cell_type": "code",
   "execution_count": null,
   "id": "6a78e66c",
   "metadata": {},
   "outputs": [],
   "source": [
    "import scanpy as sc\n",
    "import anndata \n",
    "from scipy import io\n",
    "from scipy.sparse import coo_matrix, csr_matrix\n",
    "import numpy as np\n",
    "import os\n",
    "import pandas as pd"
   ]
  },
  {
   "cell_type": "code",
   "execution_count": null,
   "id": "3855cbff",
   "metadata": {},
   "outputs": [],
   "source": [
    "type=\"Aregs\"\n",
    "\n",
    "X = io.mmread(f\"/home/ssloveff/lucas/loom/Seurat_dataset/Aregs/counts.mtx\")\n",
    "\n",
    "# create anndata object\n",
    "adata = anndata.AnnData(\n",
    "    X=X.transpose().tocsr()\n",
    ")\n",
    "\n",
    "cell_meta = pd.read_csv(f\"/home/ssloveff/lucas/loom/Seurat_dataset/Aregs/metadata.csv\")\n",
    "\n",
    "with open(f\"/home/ssloveff/lucas/loom/Seurat_dataset/Aregs/gene_names.csv\", 'r') as f:\n",
    "    gene_names = f.read().splitlines()\n",
    "\n",
    "adata.obs = cell_meta\n",
    "adata.obs.index = adata.obs['barcode']\n",
    "\n",
    "adata.var.index = gene_names\n",
    "\n",
    "pca = pd.read_csv(f\"/home/ssloveff/lucas/loom/Seurat_dataset/Aregs/pca.csv\")\n",
    "pca.index = adata.obs.index\n",
    "\n",
    "adata.obsm['X_pca'] = pca.to_numpy()\n",
    "adata.obsm['X_umap'] = np.vstack((adata.obs['UMAP_1'].to_numpy(), adata.obs['UMAP_2'].to_numpy())).T\n",
    "\n",
    "sc.pl.umap(adata, color='seurat_clusters', frameon=False, save=True)"
   ]
  },
  {
   "cell_type": "code",
   "execution_count": null,
   "id": "ef4e513c",
   "metadata": {},
   "outputs": [],
   "source": [
    "import scvelo as scv\n",
    "import scanpy as sc\n",
    "import numpy as np\n",
    "import pandas as pd\n",
    "import anndata as ad\n",
    "\n",
    "import matplotlib.pyplot as plt\n",
    "\n",
    "scv.settings.verbosity = 3\n",
    "scv.settings.set_figure_params('scvelo', facecolor='white', dpi=100, \n",
    "                               fontsize=6, color_map='viridis',\n",
    "                               frameon=False)"
   ]
  },
  {
   "cell_type": "code",
   "execution_count": null,
   "id": "3bf6f9bb",
   "metadata": {},
   "outputs": [],
   "source": [
    "sample_loom_1=\"/home/ssloveff/lucas/loom/Young_TN_count.loom\"\n",
    "ldata1 = scv.read( sample_loom_1, cache=True)\n",
    "#ldata1.obs['batch'] = '1'\n",
    "#ldata1.obs['BATCH'] = '1'\n",
    "ldata1\n",
    "\n",
    "sample_loom_2=\"/home/ssloveff/lucas/loom/Young_3D_count.loom\"\n",
    "ldata2 = scv.read( sample_loom_2, cache=True)\n",
    "#ldata2.obs['batch'] = '2'\n",
    "#ldata2.obs['BATCH'] = '2'\n",
    "ldata2\n",
    "\n",
    "sample_loom_3=\"/home/ssloveff/lucas/loom/Young_14D_count.loom\"\n",
    "ldata3 = scv.read( sample_loom_3, cache=True)\n",
    "#ldata3.obs['batch'] = '3'\n",
    "#ldata3.obs['BATCH'] = '3'\n",
    "ldata3\n",
    "\n",
    "sample_loom_4=\"/home/ssloveff/lucas/loom/Aged_TN_count.loom\"\n",
    "ldata4 = scv.read( sample_loom_4, cache=True)\n",
    "#ldata4.obs['batch'] = '4'\n",
    "#ldata4.obs['BATCH'] = '4'\n",
    "ldata4\n",
    "\n",
    "sample_loom_5=\"/home/ssloveff/lucas/loom/Aged_3D_count.loom\"\n",
    "ldata5 = scv.read( sample_loom_5, cache=True)\n",
    "#ldata5.obs['batch'] = '5'\n",
    "#ldata5.obs['BATCH'] = '5'\n",
    "ldata5\n",
    "\n",
    "sample_loom_6=\"/home/ssloveff/lucas/loom/Aged_14D_count.loom\"\n",
    "ldata6 = scv.read( sample_loom_6, cache=True)\n",
    "#ldata6.obs['batch'] = '6'\n",
    "#ldata6.obs['BATCH'] = '6'\n",
    "ldata6\n",
    "\n",
    "# ldata1\n",
    "barcodes = [bc.split(':')[1] for bc in ldata1.obs.index.tolist()]\n",
    "barcodes = [bc[0:len(bc)-1] + '-1' for bc in barcodes]\n",
    "ldata1.obs.index = barcodes\n",
    "ldata1.obs.index[0:5]\n",
    "\n",
    "# ldata2\n",
    "barcodes = [bc.split(':')[1] for bc in ldata2.obs.index.tolist()]\n",
    "barcodes = [bc[0:len(bc)-1] + '-1' for bc in barcodes]\n",
    "ldata2.obs.index = barcodes\n",
    "ldata2.obs.index[0:5]\n",
    "\n",
    "# ldata3\n",
    "barcodes = [bc.split(':')[1] for bc in ldata3.obs.index.tolist()]\n",
    "barcodes = [bc[0:len(bc)-1] + '-1' for bc in barcodes]\n",
    "ldata3.obs.index = barcodes\n",
    "ldata3.obs.index[0:5]\n",
    "\n",
    "# ldata4\n",
    "barcodes = [bc.split(':')[1] for bc in ldata4.obs.index.tolist()]\n",
    "barcodes = [bc[0:len(bc)-1] + '-1' for bc in barcodes]\n",
    "ldata4.obs.index = barcodes\n",
    "ldata4.obs.index[0:5]\n",
    "\n",
    "# ldata5\n",
    "barcodes = [bc.split(':')[1] for bc in ldata5.obs.index.tolist()]\n",
    "barcodes = [bc[0:len(bc)-1] + '-1' for bc in barcodes]\n",
    "ldata5.obs.index = barcodes\n",
    "ldata5.obs.index[0:5]\n",
    "\n",
    "# ldata6\n",
    "barcodes = [bc.split(':')[1] for bc in ldata6.obs.index.tolist()]\n",
    "barcodes = [bc[0:len(bc)-1] + '-1' for bc in barcodes]\n",
    "ldata6.obs.index = barcodes\n",
    "ldata6.obs.index[0:5]\n",
    "\n",
    "ldata1.var.head()\n",
    "ldata2.var.head()\n",
    "ldata3.var.head()\n",
    "ldata4.var.head()\n",
    "ldata5.var.head()\n",
    "ldata6.var.head()\n",
    "\n",
    "ldata1.var_names_make_unique()\n",
    "ldata2.var_names_make_unique()\n",
    "ldata3.var_names_make_unique()\n",
    "ldata4.var_names_make_unique()\n",
    "ldata5.var_names_make_unique()\n",
    "ldata6.var_names_make_unique()\n",
    "\n",
    "ldata = sc.AnnData.concatenate(ldata1,ldata2,ldata3,ldata4,ldata5,ldata6,batch_key = 'BATCH')\n",
    "ldata.obs\n"
   ]
  },
  {
   "cell_type": "code",
   "execution_count": null,
   "id": "00a7cab4",
   "metadata": {},
   "outputs": [],
   "source": [
    "adata = scv.utils.merge(adata, ldata)\n",
    "adata.obs\n",
    "\n",
    "scv.pp.filter_and_normalize(adata)\n",
    "\n",
    "scv.pp.moments(adata, n_neighbors=30, n_pcs=30)"
   ]
  },
  {
   "cell_type": "code",
   "execution_count": null,
   "id": "cbd20043",
   "metadata": {},
   "outputs": [],
   "source": [
    "import gc\n",
    "gc.collect()"
   ]
  },
  {
   "cell_type": "code",
   "execution_count": null,
   "id": "d5baf146",
   "metadata": {},
   "outputs": [],
   "source": [
    "temp_pre= f\"Aregs_nue.in_process2\"\n",
    "if False==os.path.exists(f\"{temp_pre}.velo.gz.h5ad\"):\n",
    "    scv.tl.recover_dynamics(adata, var_names='all', n_jobs=40)\n",
    "    scv.tl.velocity(adata, mode='dynamical')\n",
    "    adata.write(f\"{temp_pre}.velo.gz.h5ad\", compression='gzip')\n",
    "    print(\">>Write to file\")\n",
    "else:\n",
    "    adata = sc.read(f\"{temp_pre}.velo.gz.h5ad\", compression='gzip', ext=\"h5ad\")\n",
    "    print(\">>read from file\")\n",
    "\n",
    "scv.tl.velocity_graph(adata, n_jobs=40)"
   ]
  },
  {
   "cell_type": "code",
   "execution_count": null,
   "id": "6f5de51c",
   "metadata": {},
   "outputs": [],
   "source": [
    "scv.pl.velocity_embedding_stream(adata, basis=\"umap\")"
   ]
  },
  {
   "cell_type": "code",
   "execution_count": null,
   "id": "ff7a24f1",
   "metadata": {},
   "outputs": [],
   "source": [
    "scv.pl.velocity_embedding(adata, basis=\"umap\", save='figures/Aregs/embedding_Aregs.pdf')"
   ]
  },
  {
   "cell_type": "code",
   "execution_count": null,
   "id": "619f7c94",
   "metadata": {},
   "outputs": [],
   "source": [
    "scv.pl.velocity_embedding_stream(adata, basis='umap', color=['seurat_clusters'], figsize=(8,8), \n",
    "    palette =  (\"#f26f66\",\"#4962a1\",\"#63b9bd\",'#2F4858',\"#8572ad\",'#BBA6E5','#539075',\"#3082b4\",\"#ccaf74\"), \n",
    "    arrow_size=2, linewidth=1.5, legend_fontsize=25, dpi=900, save='figures/Aregs/embedding_stream_seurat_clusters_Aregs.svg', title='')"
   ]
  },
  {
   "cell_type": "code",
   "execution_count": null,
   "id": "967c3a05",
   "metadata": {},
   "outputs": [],
   "source": [
    "scv.pl.velocity_embedding_stream(adata, basis='umap', color=['celltype'], figsize=(8,8), \n",
    "    palette =  ('#fdd171','#CCC9E6','#fac1b8'), \n",
    "    arrow_size=2, linewidth=1.2, legend_fontsize=25, dpi=900, density = 1.2, save='figures/Aregs/embedding_stream_celltype_Aregs.svg', title='')"
   ]
  },
  {
   "cell_type": "code",
   "execution_count": null,
   "id": "64e6a13f",
   "metadata": {},
   "outputs": [],
   "source": [
    "scv.pl.velocity_embedding_grid(adata, basis='umap', color='celltype', figsize=(8,8), \n",
    "    arrow_size=2.2,  arrow_length=2, size=120, alpha=0.3, save='figures/Aregs/embedding_grid_Aregs.pdf', title='', scale=0.25)"
   ]
  },
  {
   "cell_type": "code",
   "execution_count": null,
   "id": "ddf52272",
   "metadata": {},
   "outputs": [],
   "source": [
    "scv.pl.velocity_embedding(adata, arrow_length=2, arrow_size=1.5, dpi=900, figsize=(8,8), save='figures/Aregs/embedding_stream2_Aregs.pdf')"
   ]
  },
  {
   "cell_type": "code",
   "execution_count": null,
   "id": "4538243d",
   "metadata": {},
   "outputs": [],
   "source": [
    "scv.pl.velocity(adata,\n",
    "['F3','Igf1','Igfbp3','Gas6','Timp1',\"Penk\"],\n",
    "figsize=(5,5), dpi=300, save='figures/Aregs/Interprete velocity_Aregs.png', ncols=2)"
   ]
  },
  {
   "cell_type": "code",
   "execution_count": null,
   "id": "df7866d9",
   "metadata": {},
   "outputs": [],
   "source": [
    "scv.pl.velocity(adata,\n",
    "[\"Gas6\",'Axl',\"Trem2\",\"Mgp\",\"Fmo2\",\"Vit\",\"Agt\",\"Grem2\"],\n",
    "figsize=(5,5), dpi=300, save='figures/Aregs/Interprete velocity_Aregs-2.png', ncols=2)"
   ]
  }
 ],
 "metadata": {
  "kernelspec": {
   "display_name": "Python [conda env:velocyto]",
   "language": "python",
   "name": "conda-env-velocyto-py"
  },
  "language_info": {
   "codemirror_mode": {
    "name": "ipython",
    "version": 3
   },
   "file_extension": ".py",
   "mimetype": "text/x-python",
   "name": "python",
   "nbconvert_exporter": "python",
   "pygments_lexer": "ipython3",
   "version": "3.8.18"
  }
 },
 "nbformat": 4,
 "nbformat_minor": 5
}
